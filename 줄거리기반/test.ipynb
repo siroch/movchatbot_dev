{
 "cells": [
  {
   "cell_type": "code",
   "execution_count": 28,
   "metadata": {},
   "outputs": [],
   "source": [
    "import pandas as pd\n",
    "from sklearn.feature_extraction.text import TfidfVectorizer\n",
    "from sklearn.metrics.pairwise import cosine_similarity\n",
    "\n",
    "from math import log"
   ]
  },
  {
   "cell_type": "code",
   "execution_count": 24,
   "metadata": {},
   "outputs": [
    {
     "data": {
      "text/html": [
       "<div>\n",
       "<style scoped>\n",
       "    .dataframe tbody tr th:only-of-type {\n",
       "        vertical-align: middle;\n",
       "    }\n",
       "\n",
       "    .dataframe tbody tr th {\n",
       "        vertical-align: top;\n",
       "    }\n",
       "\n",
       "    .dataframe thead th {\n",
       "        text-align: right;\n",
       "    }\n",
       "</style>\n",
       "<table border=\"1\" class=\"dataframe\">\n",
       "  <thead>\n",
       "    <tr style=\"text-align: right;\">\n",
       "      <th></th>\n",
       "      <th>영화명</th>\n",
       "      <th>영화명(영문)</th>\n",
       "      <th>제작연도</th>\n",
       "      <th>제작국가</th>\n",
       "      <th>장르</th>\n",
       "      <th>감독</th>\n",
       "      <th>배우</th>\n",
       "      <th>평점</th>\n",
       "      <th>줄거리</th>\n",
       "      <th>Unnamed: 9</th>\n",
       "    </tr>\n",
       "  </thead>\n",
       "  <tbody>\n",
       "    <tr>\n",
       "      <th>0</th>\n",
       "      <td>가구야공주 이야기</td>\n",
       "      <td>The Tale of Princess Kaguya</td>\n",
       "      <td>2013.0</td>\n",
       "      <td>일본</td>\n",
       "      <td>애니메이션,드라마,판타지</td>\n",
       "      <td>다카하타 이사오</td>\n",
       "      <td>아사쿠라 아키,코라 켄고</td>\n",
       "      <td>8.18</td>\n",
       "      <td>깊은 산속 마을의 할아버지는 우연히 빛나는 대나무 속에서 여자 아이를 발견하고 집으...</td>\n",
       "      <td>NaN</td>\n",
       "    </tr>\n",
       "    <tr>\n",
       "      <th>1</th>\n",
       "      <td>가까이서 본 기차</td>\n",
       "      <td>Closely Watched Trains</td>\n",
       "      <td>1966.0</td>\n",
       "      <td>체코</td>\n",
       "      <td>전쟁,드라마,코미디</td>\n",
       "      <td>이리 멘젤</td>\n",
       "      <td>바클라프 네카르,지트카 벤도바,요제프 소므르</td>\n",
       "      <td>7.71</td>\n",
       "      <td>2차 세계대전 말, 독일점령하에 있는 체코의 어느 작은 시골역. 이제 막 연수를 마...</td>\n",
       "      <td>NaN</td>\n",
       "    </tr>\n",
       "  </tbody>\n",
       "</table>\n",
       "</div>"
      ],
      "text/plain": [
       "         영화명                      영화명(영문)    제작연도 제작국가             장르  \\\n",
       "0  가구야공주 이야기  The Tale of Princess Kaguya  2013.0   일본  애니메이션,드라마,판타지   \n",
       "1  가까이서 본 기차       Closely Watched Trains  1966.0   체코     전쟁,드라마,코미디   \n",
       "\n",
       "         감독                        배우    평점  \\\n",
       "0  다카하타 이사오             아사쿠라 아키,코라 켄고  8.18   \n",
       "1     이리 멘젤  바클라프 네카르,지트카 벤도바,요제프 소므르  7.71   \n",
       "\n",
       "                                                 줄거리  Unnamed: 9  \n",
       "0  깊은 산속 마을의 할아버지는 우연히 빛나는 대나무 속에서 여자 아이를 발견하고 집으...         NaN  \n",
       "1  2차 세계대전 말, 독일점령하에 있는 체코의 어느 작은 시골역. 이제 막 연수를 마...         NaN  "
      ]
     },
     "execution_count": 24,
     "metadata": {},
     "output_type": "execute_result"
    }
   ],
   "source": [
    "set_type = {\n",
    "    '영화명': str,\n",
    "    '영화명(영문)': str,\n",
    "    '제작연도': int,\n",
    "    '제작국가': str,\n",
    "    '장르': str,\n",
    "    '감독': str,\n",
    "    '배우': str,\n",
    "    '평점': str,\n",
    "    '줄거리': str\n",
    "}\n",
    "\n",
    "data = pd.read_csv('../data/movie_list.csv')\n",
    "data.head(2)"
   ]
  },
  {
   "cell_type": "code",
   "execution_count": 25,
   "metadata": {},
   "outputs": [
    {
     "data": {
      "text/plain": [
       "(8252, 10)"
      ]
     },
     "execution_count": 25,
     "metadata": {},
     "output_type": "execute_result"
    }
   ],
   "source": [
    "data.shape"
   ]
  },
  {
   "cell_type": "code",
   "execution_count": 26,
   "metadata": {},
   "outputs": [
    {
     "name": "stdout",
     "output_type": "stream",
     "text": [
      "줄거리 열의 결측값의 수: 650\n"
     ]
    }
   ],
   "source": [
    "# overview 열에 존재하는 모든 결측값을 전부 카운트하여 출력\n",
    "print('줄거리 열의 결측값의 수:', data['줄거리'].isnull().sum())"
   ]
  },
  {
   "cell_type": "code",
   "execution_count": 27,
   "metadata": {},
   "outputs": [],
   "source": [
    "# 결측값을 빈 값으로 대체\n",
    "data['줄거리'] = data['줄거리'].fillna('')"
   ]
  },
  {
   "cell_type": "code",
   "execution_count": null,
   "metadata": {},
   "outputs": [],
   "source": [
    "# https://sikaleo.tistory.com/62"
   ]
  }
 ],
 "metadata": {
  "interpreter": {
   "hash": "de1630586f6a3e9dd9de8012dcd20c1e1d32a946ba4cb80ac242f31260473693"
  },
  "kernelspec": {
   "display_name": "Python 3.8.9 ('.venv': venv)",
   "language": "python",
   "name": "python3"
  },
  "language_info": {
   "codemirror_mode": {
    "name": "ipython",
    "version": 3
   },
   "file_extension": ".py",
   "mimetype": "text/x-python",
   "name": "python",
   "nbconvert_exporter": "python",
   "pygments_lexer": "ipython3",
   "version": "3.8.9"
  },
  "orig_nbformat": 4
 },
 "nbformat": 4,
 "nbformat_minor": 2
}
