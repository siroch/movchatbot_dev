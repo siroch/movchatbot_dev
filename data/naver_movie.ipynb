{
  "nbformat": 4,
  "nbformat_minor": 0,
  "metadata": {
    "colab": {
      "name": "naver_movie.ipynb",
      "provenance": [],
      "collapsed_sections": []
    },
    "kernelspec": {
      "name": "python3",
      "display_name": "Python 3"
    },
    "language_info": {
      "name": "python"
    }
  },
  "cells": [
    {
      "cell_type": "code",
      "execution_count": null,
      "metadata": {
        "id": "thRI10DmbtaV"
      },
      "outputs": [],
      "source": [
        "import os\n",
        "import sys\n",
        "import requests\n",
        "import json\n",
        "import openpyxl\n",
        "from bs4 import BeautifulSoup\n",
        "from openpyxl import Workbook\n",
        "import pandas as pd\n",
        "import numpy as np\n",
        "\n",
        "headers = {\n",
        "  'Host': 'openapi.naver.com',\n",
        "  'User-Agent': 'curl/7.49..1',\n",
        "  'Accept': '*/*',\n",
        "  'X-Naver-Client-id': '0cRQYFHrJAQgcWi3njRi',\n",
        "  'X-Naver-Client-Secret': 'vSOUBpiP02'\n",
        "}\n",
        "\n",
        "url = 'https://openapi.naver.com/v1/search/movie.json'\n",
        "\n",
        "# 엑셀 파일 오픈\n",
        "fileName = '/content/movie_list.xlsx'\n",
        "myExcel = openpyxl.load_workbook(fileName,data_only=True)\n",
        "# 시트 설정\n",
        "mySheet = myExcel['korea']\n",
        "get_cells = mySheet['A1388':'A4000']\n",
        "idx = 1388\n",
        "\n",
        "for row in get_cells:\n",
        "  for cell in row:\n",
        "    movie = cell.value\n",
        "    years = mySheet.cell(row=idx, column=3).value\n",
        "    #years = int(mySheet(idx+1, 3)).value\n",
        "    #print(movie)\n",
        "    params ={\n",
        "        'query': movie,\n",
        "        'yearfrom' : years,\n",
        "        'yearto' : years\n",
        "    }\n",
        "    res = requests.get(url, headers=headers, params=params)\n",
        "    #print(res.text)\n",
        "\n",
        "    jData = json.loads(res.text)\n",
        "    itemCnt=jData['total']\n",
        "    \n",
        "    for item in jData['items']:\n",
        "      # 동명영화가 2개 이상 존재하는 경우\n",
        "      if itemCnt > 1 :\n",
        "        movName = item['title'].replace('<b>','')\n",
        "        movName= movName.replace('</b>','')\n",
        "        print('movieName='+movName)\n",
        "        if mySheet['A'+str(idx)] == movName and \\\n",
        "        (item['director']==mySheet['F'+str(idx)] or (type(item['director'])=='list' and item['director'].split('|')[:-1].find(mySheet['F'+str(idx)])!=-1)) :\n",
        "          # 배우 actor\n",
        "          posActor= 'G'+ str(idx)\n",
        "          actors= item['actor'].split('|')[:-1]\n",
        "          mySheet[posActor] = ','.join(actors)\n",
        "          # 평점 userRating\n",
        "          mySheet['H'+str(idx)] = item['userRating']\n",
        "          \n",
        "      else:\n",
        "        #actor\n",
        "        posActor= 'G'+ str(idx)\n",
        "        actors= item['actor'].split('|')[:-1]\n",
        "        mySheet[posActor] = ','.join(actors)\n",
        "        #score\n",
        "        mySheet['H'+str(idx)] = item['userRating']\n",
        "        \n",
        "    print(res.text)\n",
        "    \n",
        "    idx=idx+1 \n",
        "myExcel.save('/content/output.xlsx')\n",
        "\n"
      ]
    },
    {
      "cell_type": "markdown",
      "source": [
        ""
      ],
      "metadata": {
        "id": "yw4oLfSBHNkf"
      }
    }
  ]
}